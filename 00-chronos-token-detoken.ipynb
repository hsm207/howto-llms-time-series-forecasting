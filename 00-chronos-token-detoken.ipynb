{
 "cells": [
  {
   "cell_type": "markdown",
   "metadata": {},
   "source": [
    "# Setup"
   ]
  },
  {
   "cell_type": "code",
   "execution_count": 1,
   "metadata": {},
   "outputs": [],
   "source": [
    "import numpy as np\n",
    "from typing import Tuple, Optional\n",
    "import matplotlib.pyplot as plt"
   ]
  },
  {
   "cell_type": "markdown",
   "metadata": {},
   "source": [
    "# Original Implementation"
   ]
  },
  {
   "cell_type": "code",
   "execution_count": 2,
   "metadata": {},
   "outputs": [],
   "source": [
    "VOCAB_SIZE = 4096\n",
    "N_SPECIAL_TOKENS = 2  # [PAD] and [EOS]\n",
    "PAD_TOKEN_ID = 0\n",
    "EOS_TOKEN_ID = 1\n",
    "\n",
    "\n",
    "class MeanScaleUniformBins:\n",
    "    def __init__(self, low_limit: float = -15.0, high_limit: float = 15.0) -> None:\n",
    "        self.config = None\n",
    "        self.centers = np.linspace(\n",
    "            low_limit,\n",
    "            high_limit,\n",
    "            VOCAB_SIZE - N_SPECIAL_TOKENS - 1,\n",
    "        )\n",
    "        self.boundaries = np.concatenate(\n",
    "            (\n",
    "                np.array([-1e20]),\n",
    "                (self.centers[1:] + self.centers[:-1]) / 2,\n",
    "                np.array([1e20]),\n",
    "            )\n",
    "        )\n",
    "\n",
    "    def _input_transform(\n",
    "        self, context: np.ndarray, scale: Optional[np.ndarray] = None\n",
    "    ) -> Tuple[np.ndarray, np.ndarray, np.ndarray]:\n",
    "        attention_mask = ~np.isnan(context)\n",
    "\n",
    "        if scale is None:\n",
    "            scale = np.nansum(np.abs(context) * attention_mask, axis=-1) / np.nansum(\n",
    "                attention_mask, axis=-1\n",
    "            )\n",
    "            scale[~(scale > 0)] = 1.0\n",
    "\n",
    "        scaled_context = context / np.expand_dims(scale, axis=-1)\n",
    "        token_ids = (\n",
    "            np.digitize(\n",
    "                scaled_context,\n",
    "                bins=self.boundaries,\n",
    "                right=True,\n",
    "            )\n",
    "            + N_SPECIAL_TOKENS\n",
    "        )\n",
    "        token_ids[~attention_mask] = PAD_TOKEN_ID\n",
    "\n",
    "        return token_ids, attention_mask, scale\n",
    "\n",
    "    def output_transform(self, samples: np.ndarray, scale: np.ndarray) -> np.ndarray:\n",
    "        scale_unsqueezed = np.expand_dims(np.expand_dims(scale, -1), -1)\n",
    "        indices = np.clip(\n",
    "            samples - N_SPECIAL_TOKENS - 1,\n",
    "            0,\n",
    "            len(self.centers) - 1,\n",
    "        )\n",
    "        return self.centers[indices] * scale_unsqueezed"
   ]
  },
  {
   "cell_type": "code",
   "execution_count": 3,
   "metadata": {},
   "outputs": [],
   "source": [
    "tokenizer = MeanScaleUniformBins()"
   ]
  },
  {
   "cell_type": "markdown",
   "metadata": {},
   "source": [
    "Test input transform:"
   ]
  },
  {
   "cell_type": "code",
   "execution_count": 4,
   "metadata": {},
   "outputs": [],
   "source": [
    "input_context = np.array(\n",
    "    [\n",
    "        [\n",
    "            8032.0,\n",
    "            9097.0,\n",
    "            9394.0,\n",
    "            8845.0,\n",
    "            5619.0,\n",
    "            3423.0,\n",
    "            7764.0,\n",
    "            10619.0,\n",
    "            8299.0,\n",
    "            4895.0,\n",
    "            9619.0,\n",
    "            10766.0,\n",
    "            9680.0,\n",
    "            8870.0,\n",
    "            3445.0,\n",
    "            4386.0,\n",
    "            5861.0,\n",
    "            5558.0,\n",
    "            5391.0,\n",
    "            5793.0,\n",
    "            5190.0,\n",
    "            5296.0,\n",
    "            4059.0,\n",
    "            2081.0,\n",
    "            1845.0,\n",
    "            1680.0,\n",
    "            1746.0,\n",
    "            1852.0,\n",
    "            1833.0,\n",
    "            1817.0,\n",
    "            1634.0,\n",
    "            1607.0,\n",
    "            1789.0,\n",
    "            1708.0,\n",
    "            1683.0,\n",
    "            1720.0,\n",
    "            1623.0,\n",
    "            1727.0,\n",
    "            1710.0,\n",
    "            1873.0,\n",
    "            1854.0,\n",
    "            1640.0,\n",
    "            1667.0,\n",
    "            1864.0,\n",
    "            1602.0,\n",
    "            1719.0,\n",
    "            1762.0,\n",
    "            1899.0,\n",
    "            2109.0,\n",
    "            2282.0,\n",
    "            1928.0,\n",
    "            1818.0,\n",
    "            2194.0,\n",
    "            1802.0,\n",
    "            1835.0,\n",
    "            1989.0,\n",
    "            2119.0,\n",
    "            3000.0,\n",
    "            2599.0,\n",
    "            2001.0,\n",
    "            2379.0,\n",
    "            1936.0,\n",
    "            1877.0,\n",
    "            1841.0,\n",
    "            1919.0,\n",
    "            1909.0,\n",
    "            1803.0,\n",
    "            1851.0,\n",
    "            1861.0,\n",
    "            2018.0,\n",
    "            1914.0,\n",
    "            2028.0,\n",
    "            5488.0,\n",
    "            7009.0,\n",
    "            5430.0,\n",
    "            3070.0,\n",
    "            4339.0,\n",
    "            1739.0,\n",
    "            6760.0,\n",
    "            3970.0,\n",
    "            1740.0,\n",
    "            1713.0,\n",
    "            1048.0,\n",
    "            1657.0,\n",
    "            4582.0,\n",
    "            10449.0,\n",
    "            4199.0,\n",
    "            7645.0,\n",
    "            10510.0,\n",
    "            10547.0,\n",
    "            10120.0,\n",
    "            11099.0,\n",
    "            11474.0,\n",
    "            9416.0,\n",
    "            4925.0,\n",
    "            4219.0,\n",
    "            11362.0,\n",
    "            11068.0,\n",
    "            11701.0,\n",
    "            11600.0,\n",
    "            4049.0,\n",
    "            1691.0,\n",
    "            1914.0,\n",
    "            1723.0,\n",
    "            1711.0,\n",
    "            1987.0,\n",
    "            2179.0,\n",
    "            1794.0,\n",
    "            1974.0,\n",
    "            1888.0,\n",
    "            1999.0,\n",
    "            1799.0,\n",
    "            1887.0,\n",
    "            1957.0,\n",
    "            1842.0,\n",
    "            1587.0,\n",
    "            2655.0,\n",
    "            2312.0,\n",
    "            1923.0,\n",
    "            1760.0,\n",
    "            3447.0,\n",
    "            1744.0,\n",
    "            5771.0,\n",
    "            3822.0,\n",
    "            3677.0,\n",
    "            1473.0,\n",
    "            2911.0,\n",
    "            1265.0,\n",
    "            2047.0,\n",
    "            1306.0,\n",
    "            1626.0,\n",
    "            2379.0,\n",
    "            1430.0,\n",
    "            1540.0,\n",
    "            4747.0,\n",
    "            8725.0,\n",
    "            10975.0,\n",
    "            10990.0,\n",
    "            11456.0,\n",
    "            10545.0,\n",
    "            10813.0,\n",
    "            3610.0,\n",
    "            1328.0,\n",
    "            1255.0,\n",
    "            1596.0,\n",
    "            1676.0,\n",
    "            1319.0,\n",
    "            1281.0,\n",
    "        ],\n",
    "        [\n",
    "            18707.0,\n",
    "            18116.0,\n",
    "            17821.0,\n",
    "            18191.0,\n",
    "            17957.0,\n",
    "            18227.0,\n",
    "            18612.0,\n",
    "            18885.0,\n",
    "            18869.0,\n",
    "            18315.0,\n",
    "            18813.0,\n",
    "            17514.0,\n",
    "            18414.0,\n",
    "            15572.0,\n",
    "            12026.0,\n",
    "            17435.0,\n",
    "            17529.0,\n",
    "            16287.0,\n",
    "            15642.0,\n",
    "            16515.0,\n",
    "            19037.0,\n",
    "            19532.0,\n",
    "            18931.0,\n",
    "            19041.0,\n",
    "            19445.0,\n",
    "            19901.0,\n",
    "            20992.0,\n",
    "            20799.0,\n",
    "            21946.0,\n",
    "            20495.0,\n",
    "            21230.0,\n",
    "            21327.0,\n",
    "            19655.0,\n",
    "            20358.0,\n",
    "            19518.0,\n",
    "            17372.0,\n",
    "            16146.0,\n",
    "            17501.0,\n",
    "            13655.0,\n",
    "            19669.0,\n",
    "            18702.0,\n",
    "            18461.0,\n",
    "            17798.0,\n",
    "            18149.0,\n",
    "            17754.0,\n",
    "            17725.0,\n",
    "            19616.0,\n",
    "            17481.0,\n",
    "            18810.0,\n",
    "            18711.0,\n",
    "            18635.0,\n",
    "            18854.0,\n",
    "            18623.0,\n",
    "            15952.0,\n",
    "            17970.0,\n",
    "            18749.0,\n",
    "            18824.0,\n",
    "            19193.0,\n",
    "            18415.0,\n",
    "            18026.0,\n",
    "            19373.0,\n",
    "            19811.0,\n",
    "            19562.0,\n",
    "            19130.0,\n",
    "            15767.0,\n",
    "            15735.0,\n",
    "            15950.0,\n",
    "            17295.0,\n",
    "            19429.0,\n",
    "            19768.0,\n",
    "            21253.0,\n",
    "            21083.0,\n",
    "            21390.0,\n",
    "            21502.0,\n",
    "            21846.0,\n",
    "            21870.0,\n",
    "            21429.0,\n",
    "            22912.0,\n",
    "            24802.0,\n",
    "            24719.0,\n",
    "            24070.0,\n",
    "            24333.0,\n",
    "            24272.0,\n",
    "            23541.0,\n",
    "            22858.0,\n",
    "            22211.0,\n",
    "            22495.0,\n",
    "            22188.0,\n",
    "            22253.0,\n",
    "            22539.0,\n",
    "            20216.0,\n",
    "            19511.0,\n",
    "            20344.0,\n",
    "            19781.0,\n",
    "            19058.0,\n",
    "            19167.0,\n",
    "            18885.0,\n",
    "            19027.0,\n",
    "            18878.0,\n",
    "            19147.0,\n",
    "            19408.0,\n",
    "            19086.0,\n",
    "            18684.0,\n",
    "            18598.0,\n",
    "            18361.0,\n",
    "            19396.0,\n",
    "            19481.0,\n",
    "            19786.0,\n",
    "            19764.0,\n",
    "            17648.0,\n",
    "            18223.0,\n",
    "            16814.0,\n",
    "            15751.0,\n",
    "            15737.0,\n",
    "            16197.0,\n",
    "            16529.0,\n",
    "            15946.0,\n",
    "            15564.0,\n",
    "            16519.0,\n",
    "            16053.0,\n",
    "            16952.0,\n",
    "            18274.0,\n",
    "            17534.0,\n",
    "            18094.0,\n",
    "            16955.0,\n",
    "            17471.0,\n",
    "            17630.0,\n",
    "            18271.0,\n",
    "            18513.0,\n",
    "            18963.0,\n",
    "            19869.0,\n",
    "            22188.0,\n",
    "            23042.0,\n",
    "            22639.0,\n",
    "            22476.0,\n",
    "            22575.0,\n",
    "            22385.0,\n",
    "            22695.0,\n",
    "            20728.0,\n",
    "            22158.0,\n",
    "            20707.0,\n",
    "            20330.0,\n",
    "            18938.0,\n",
    "            18668.0,\n",
    "            17885.0,\n",
    "            17283.0,\n",
    "            17944.0,\n",
    "            16862.0,\n",
    "        ],\n",
    "    ]\n",
    ")\n",
    "\n",
    "input_scale = np.array([ 4034.5405, 19144.7227])\n",
    "\n",
    "original_token_ids, original_attention_mask, original_scale = tokenizer._input_transform(input_context, input_scale)"
   ]
  },
  {
   "cell_type": "markdown",
   "metadata": {},
   "source": [
    "Test output transform:"
   ]
  },
  {
   "cell_type": "code",
   "execution_count": 5,
   "metadata": {},
   "outputs": [],
   "source": [
    "output_scale = np.array(([4034.5405, 19144.7227]))\n",
    "output_samples = np.array([[[2097, 2095, 2107, 2109, 2103, 2102, 2093, 2095],\n",
    "         [2091, 2094, 2107, 2111, 2099, 2108, 2114, 2115],\n",
    "         [2108, 2091, 2085, 2091, 2098, 2107, 2092, 2105],\n",
    "         [2093, 2105, 2113, 2094, 2095, 2105, 2114, 2094],\n",
    "         [2105, 2105, 2110, 2102, 2102, 2111, 2102, 2107],\n",
    "         [2098, 2092, 2098, 2102, 2093, 2093, 2097, 2104],\n",
    "         [2089, 2115, 2107, 2110, 2110, 2110, 2106, 2102],\n",
    "         [2096, 2105, 2116, 2095, 2095, 2096, 2094, 2096],\n",
    "         [2096, 2093, 2095, 2125, 2109, 2113, 2107, 2112],\n",
    "         [2096, 2095, 2102, 2096, 2104, 2102, 2099, 2107],\n",
    "         [2103, 2093, 2094, 2106, 2093, 2119, 2105, 2111],\n",
    "         [2106, 2121, 2104, 2107, 2098, 2105, 2111, 2108],\n",
    "         [2110, 2117, 2103, 2095, 2097, 2098, 2091, 2098],\n",
    "         [2097, 2106, 2101, 2098, 2110, 2113, 2111, 2121],\n",
    "         [2099, 2094, 2100, 2097, 2096, 2095, 2096, 2103],\n",
    "         [2108, 2111, 2091, 2102, 2106, 2106, 2122, 2110],\n",
    "         [2092, 2089, 2091, 2090, 2094, 2094, 2095, 2094],\n",
    "         [2107, 2106, 2107, 2121, 2127, 2114, 2104, 2101],\n",
    "         [2104, 2108, 2096, 2100, 2116, 2113, 2113, 2120],\n",
    "         [2088, 2109, 2093, 2105, 2091, 2096, 2091, 2106]],\n",
    "\n",
    "        [[2166, 2168, 2166, 2167, 2151, 2163, 2157, 2162],\n",
    "         [2171, 2171, 2165, 2165, 2162, 2162, 2156, 2151],\n",
    "         [2166, 2166, 2147, 2170, 2152, 2159, 2161, 2178],\n",
    "         [2173, 2166, 2168, 2168, 2173, 2168, 2167, 2163],\n",
    "         [2168, 2170, 2167, 2148, 2182, 2176, 2178, 2160],\n",
    "         [2166, 2172, 2164, 2176, 2185, 2183, 2181, 2174],\n",
    "         [2167, 2169, 2173, 2171, 2167, 2163, 2163, 2164],\n",
    "         [2167, 2165, 2161, 2181, 2169, 2182, 2180, 2179],\n",
    "         [2177, 2168, 2165, 2169, 2166, 2165, 2167, 2148],\n",
    "         [2177, 2178, 2179, 2171, 2175, 2167, 2175, 2176],\n",
    "         [2166, 2169, 2172, 2172, 2176, 2181, 2174, 2183],\n",
    "         [2167, 2167, 2170, 2166, 2162, 2171, 2171, 2173],\n",
    "         [2173, 2178, 2179, 2181, 2181, 2180, 2180, 2179],\n",
    "         [2169, 2161, 2165, 2166, 2165, 2172, 2172, 2187],\n",
    "         [2176, 2178, 2163, 2165, 2165, 2164, 2162, 2181],\n",
    "         [2174, 2178, 2178, 2175, 2173, 2168, 2173, 2167],\n",
    "         [2155, 2154, 2167, 2159, 2162, 2164, 2163, 2169],\n",
    "         [2173, 2179, 2178, 2176, 2175, 2176, 2177, 2168],\n",
    "         [2171, 2162, 2169, 2160, 2173, 2167, 2166, 2160],\n",
    "         [2165, 2166, 2166, 2169, 2168, 2173, 2176, 2175]]])\n",
    "\n",
    "original_output_transform = tokenizer.output_transform(output_samples, output_scale)"
   ]
  },
  {
   "cell_type": "markdown",
   "metadata": {},
   "source": [
    "# Simplied Implementation"
   ]
  },
  {
   "cell_type": "code",
   "execution_count": 6,
   "metadata": {},
   "outputs": [],
   "source": [
    "VOCAB_SIZE = 4096\n",
    "N_SPECIAL_TOKENS = 2  # [PAD] and [EOS]\n",
    "PAD_TOKEN_ID = 0\n",
    "EOS_TOKEN_ID = 1\n",
    "\n",
    "# Define the range for binning\n",
    "LOW_LIMIT = -15.0\n",
    "HIGH_LIMIT = 15.0"
   ]
  },
  {
   "cell_type": "code",
   "execution_count": 7,
   "metadata": {},
   "outputs": [
    {
     "name": "stdout",
     "output_type": "stream",
     "text": [
      "The lenght of boundaries is 4094\n",
      "The lenght of centers is 4093\n"
     ]
    }
   ],
   "source": [
    "# Create bin centers\n",
    "centers = np.linspace(LOW_LIMIT, HIGH_LIMIT, VOCAB_SIZE - N_SPECIAL_TOKENS - 1) # -1 is a bug?\n",
    "\n",
    "# Create boundaries for binning\n",
    "boundaries = np.concatenate(\n",
    "    (\n",
    "        np.array([-1e20]),  # To capture all lower values\n",
    "        (centers[1:] + centers[:-1]) / 2,  # Midpoints between centers\n",
    "        np.array([1e20]),  # To capture all higher values\n",
    "    )\n",
    ")\n",
    "\n",
    "print(f\"The lenght of boundaries is {len(boundaries)}\")\n",
    "print(f\"The lenght of centers is {len(centers)}\")"
   ]
  },
  {
   "cell_type": "code",
   "execution_count": 8,
   "metadata": {},
   "outputs": [],
   "source": [
    "def mean_scale(context):\n",
    "    attention_mask = ~np.isnan(context)  # Identify valid (non-NaN) values\n",
    "    scale = np.nansum(np.abs(context) * attention_mask) / np.nansum(attention_mask)\n",
    "    scale = max(scale, 1.0)  # Avoid division by zero or very small scales\n",
    "    scaled_context = context / scale\n",
    "    return scaled_context, scale, attention_mask\n"
   ]
  },
  {
   "cell_type": "code",
   "execution_count": 9,
   "metadata": {},
   "outputs": [],
   "source": [
    "def tokenize(scaled_context, attention_mask):\n",
    "    token_ids = np.digitize(scaled_context, bins=boundaries, right=True) + N_SPECIAL_TOKENS\n",
    "    token_ids[~attention_mask] = PAD_TOKEN_ID  # Mark NaNs as PAD\n",
    "    return token_ids\n"
   ]
  },
  {
   "cell_type": "code",
   "execution_count": 10,
   "metadata": {},
   "outputs": [],
   "source": [
    "def detokenize(token_ids, scale):\n",
    "    indices = np.clip(token_ids - N_SPECIAL_TOKENS - 1, 0, len(centers) - 1)\n",
    "    scaled_values = centers[indices] * scale\n",
    "    return scaled_values"
   ]
  },
  {
   "cell_type": "code",
   "execution_count": 11,
   "metadata": {},
   "outputs": [
    {
     "name": "stdout",
     "output_type": "stream",
     "text": [
      "Original Time Series: [ 1  2  3  4  5  6  7  8  9 10]\n",
      "Scaled Context: [0.18181818 0.36363636 0.54545455 0.72727273 0.90909091 1.09090909\n",
      " 1.27272727 1.45454545 1.63636364 1.81818182]\n",
      "Token IDs: [2074 2099 2123 2148 2173 2198 2223 2247 2272 2297]\n",
      "Reconstructed Values: [ 1.00806452  2.01612903  2.98387097  3.99193548  5.          6.00806452\n",
      "  7.01612903  7.98387097  8.99193548 10.        ]\n"
     ]
    }
   ],
   "source": [
    "# Example time series\n",
    "time_series = np.array([1, 2, 3, 4, 5, 6, 7, 8, 9, 10])\n",
    "\n",
    "# Step 1: Scale the time series\n",
    "scaled_context, scale, attention_mask = mean_scale(time_series)\n",
    "\n",
    "# Step 2: Tokenize the scaled time series\n",
    "token_ids = tokenize(scaled_context, attention_mask)\n",
    "\n",
    "# Step 3: Detokenize to get back to scaled values\n",
    "reconstructed_values = detokenize(token_ids, scale)\n",
    "\n",
    "print(\"Original Time Series:\", time_series)\n",
    "print(\"Scaled Context:\", scaled_context)\n",
    "print(\"Token IDs:\", token_ids)\n",
    "print(\"Reconstructed Values:\", reconstructed_values)\n"
   ]
  },
  {
   "cell_type": "markdown",
   "metadata": {},
   "source": [
    "Test the simplied implementation against the original implementation:"
   ]
  },
  {
   "cell_type": "code",
   "execution_count": 12,
   "metadata": {},
   "outputs": [],
   "source": [
    "x, y, z = mean_scale(input_context[0])\n",
    "xx = tokenize(x, z)\n",
    "\n",
    "assert np.array_equal(xx, original_token_ids[0]), \"Arrays are not equal\""
   ]
  },
  {
   "cell_type": "code",
   "execution_count": 13,
   "metadata": {},
   "outputs": [],
   "source": [
    "yy = detokenize(output_samples[0], output_scale[0])\n",
    "assert np.allclose(yy, original_output_transform[0]), \"Arrays are not equal\""
   ]
  },
  {
   "cell_type": "markdown",
   "metadata": {},
   "source": [
    "# Walkthrough (Simplied Implementation)"
   ]
  },
  {
   "cell_type": "code",
   "execution_count": 14,
   "metadata": {},
   "outputs": [],
   "source": [
    "# VOCAB_SIZE = 4096\n",
    "VOCAB_SIZE = 10\n",
    "N_SPECIAL_TOKENS = 2  # [PAD] and [EOS]\n",
    "PAD_TOKEN_ID = 0\n",
    "EOS_TOKEN_ID = 1\n",
    "\n",
    "# Define the range for binning\n",
    "LOW_LIMIT = -15.0\n",
    "HIGH_LIMIT = 15.0"
   ]
  },
  {
   "cell_type": "code",
   "execution_count": 15,
   "metadata": {},
   "outputs": [
    {
     "name": "stdout",
     "output_type": "stream",
     "text": [
      "The length of boundaries is 9\n",
      "The length of centers is 8\n",
      "The boundaries are: [-1.00e+20, -13, -9, -4, 0, 4, 9, 13, 1.00e+20]\n",
      "The centers are [-15.         -10.71428571  -6.42857143  -2.14285714   2.14285714\n",
      "   6.42857143  10.71428571  15.        ]\n"
     ]
    }
   ],
   "source": [
    "# Create bin centers\n",
    "centers = np.linspace(LOW_LIMIT, HIGH_LIMIT, VOCAB_SIZE - N_SPECIAL_TOKENS)\n",
    "\n",
    "# Create boundaries for binning\n",
    "boundaries = np.concatenate(\n",
    "    (\n",
    "        np.array([-1e20]),  # To capture all lower values\n",
    "        (centers[1:] + centers[:-1]) / 2,  # Midpoints between centers\n",
    "        np.array([1e20]),  # To capture all higher values\n",
    "    )\n",
    ")\n",
    "\n",
    "print(f\"The length of boundaries is {len(boundaries)}\")\n",
    "print(f\"The length of centers is {len(centers)}\")\n",
    "\n",
    "formatted_boundaries = [\n",
    "    f\"{b:.2e}\" if i == 0 or i == len(boundaries) - 1 else f\"{b:,.0f}\"\n",
    "    for i, b in enumerate(boundaries)\n",
    "]\n",
    "print(f\"The boundaries are: [{', '.join(formatted_boundaries)}]\")\n",
    "\n",
    "print(f\"The centers are {centers}\")\n"
   ]
  },
  {
   "cell_type": "markdown",
   "metadata": {},
   "source": [
    "Visualize the bins:"
   ]
  },
  {
   "cell_type": "code",
   "execution_count": 16,
   "metadata": {},
   "outputs": [
    {
     "data": {
      "image/png": "[encoded data removed]",
      "text/plain": [
       "<Figure size 640x480 with 1 Axes>"
      ]
     },
     "metadata": {},
     "output_type": "display_data"
    }
   ],
   "source": [
    "# Plotting the boundaries as vertical bars stopping at y=1\n",
    "boundary_for_viz = boundaries.copy()\n",
    "boundary_for_viz[0] = LOW_LIMIT - 5\n",
    "boundary_for_viz[-1] = HIGH_LIMIT + 5\n",
    "\n",
    "# Fill the area between the boundaries with blue rectangles\n",
    "for i in range(len(boundary_for_viz) - 1):\n",
    "    plt.fill_betweenx([0, 1], boundary_for_viz[i], boundary_for_viz[i + 1], color='blue', alpha=0.5)\n",
    "\n",
    "# Plotting the centers as Xs at the top of each bar\n",
    "for center in centers:\n",
    "    plt.plot(center, 1, 'rx', markersize=10, label=f'Center {center}' if center == centers[0] else \"\")\n",
    "\n",
    "# Adding text to denote the number of each center\n",
    "for i, center in enumerate(centers, ):\n",
    "    plt.text(center, 0.5, str(i + N_SPECIAL_TOKENS), ha='center', va='center', fontsize=12, color='white')\n",
    "\n",
    "\n",
    "# Adding labels and grid\n",
    "plt.title('The Binning Scheme')\n",
    "plt.xlabel('Value')\n",
    "plt.ylabel('Height (arbitrary)')\n",
    "# plt.grid(True)\n",
    "plt.ylim(0, 1.1)  # Adjust y-limit to give some space above the bars\n",
    "plt.show()"
   ]
  },
  {
   "cell_type": "code",
   "execution_count": 17,
   "metadata": {},
   "outputs": [],
   "source": [
    "# example context:\n",
    "# context = np.array([1, 2, 3, 4, 5, 6, 7, 8, 9, 10])\n",
    "context = np.array([-10, 5, 100]) "
   ]
  },
  {
   "cell_type": "code",
   "execution_count": 18,
   "metadata": {},
   "outputs": [
    {
     "name": "stdout",
     "output_type": "stream",
     "text": [
      "Scaled Context: [-0.26086957  0.13043478  2.60869565]\n",
      "Scale: 38.333333333333336\n",
      "Attention Mask: [ True  True  True]\n"
     ]
    }
   ],
   "source": [
    "def mean_scale(context):\n",
    "    attention_mask = ~np.isnan(context)  # Identify valid (non-NaN) values\n",
    "    scale = np.nansum(np.abs(context) * attention_mask) / np.nansum(attention_mask)\n",
    "    scale = max(scale, 1.0)  # Avoid division by zero or very small scales\n",
    "    scaled_context = context / scale\n",
    "    return scaled_context, scale, attention_mask\n",
    "\n",
    "\n",
    "scaled_context, scale, attention_mask = mean_scale(context)\n",
    "print(f\"Scaled Context: {scaled_context}\")\n",
    "print(f\"Scale: {scale}\")\n",
    "print(f\"Attention Mask: {attention_mask}\")\n"
   ]
  },
  {
   "cell_type": "code",
   "execution_count": 20,
   "metadata": {},
   "outputs": [
    {
     "name": "stdout",
     "output_type": "stream",
     "text": [
      "Token IDs: [5 6 6]\n"
     ]
    }
   ],
   "source": [
    "def tokenize(scaled_context, attention_mask):\n",
    "    token_ids = np.digitize(scaled_context, bins=boundaries, right=True) + N_SPECIAL_TOKENS - 1 # -1 because  np.digitize starts from 1\n",
    "    token_ids[~attention_mask] = PAD_TOKEN_ID  # Mark NaNs as PAD\n",
    "    return token_ids\n",
    "\n",
    "\n",
    "token_ids = tokenize(scaled_context, attention_mask)\n",
    "print(f\"Token IDs: {token_ids}\")"
   ]
  },
  {
   "cell_type": "code",
   "execution_count": 21,
   "metadata": {},
   "outputs": [
    {
     "name": "stdout",
     "output_type": "stream",
     "text": [
      "Reconstructed Values: [-82.14285714  82.14285714  82.14285714]\n"
     ]
    }
   ],
   "source": [
    "def detokenize(token_ids, scale):\n",
    "    indices = np.clip(token_ids - N_SPECIAL_TOKENS, 0, len(centers))\n",
    "    scaled_values = centers[indices] * scale\n",
    "    return scaled_values\n",
    "\n",
    "reconstructed_values = detokenize(token_ids, scale)\n",
    "\n",
    "print(f\"Reconstructed Values: {reconstructed_values}\")"
   ]
  },
  {
   "cell_type": "code",
   "execution_count": 22,
   "metadata": {},
   "outputs": [
    {
     "name": "stdout",
     "output_type": "stream",
     "text": [
      "Predicted Values: [-410.71428571  -82.14285714  246.42857143]\n"
     ]
    }
   ],
   "source": [
    "predicted_token_ids = np.array([3, 5, 7])\n",
    "predicted_values = detokenize(predicted_token_ids, scale)\n",
    "print(f\"Predicted Values: {predicted_values}\")"
   ]
  },
  {
   "cell_type": "markdown",
   "metadata": {},
   "source": [
    "# Testing mean scale"
   ]
  },
  {
   "cell_type": "code",
   "execution_count": 23,
   "metadata": {},
   "outputs": [
    {
     "name": "stdout",
     "output_type": "stream",
     "text": [
      "Scenario 1 - High Variance with Extreme Outliers:\n",
      "Original Context: [      1       2       3 1000000]\n",
      "Scaled Context: [3.9999760e-06 7.9999520e-06 1.1999928e-05 3.9999760e+00]\n",
      "Scale: 250001.5\n",
      "\n",
      "Scenario 2 - Small Non-Outlier Values Combined with a Large Mean:\n",
      "Original Context: [1.e-01 2.e-01 1.e+05]\n",
      "Scaled Context: [2.999991e-06 5.999982e-06 2.999991e+00]\n",
      "Scale: 33333.433333333334\n",
      "\n",
      "Scenario 3 - All Values Are Large but Not Outliers:\n",
      "Original Context: [1000000 2000000 3000000]\n",
      "Scaled Context: [0.5 1.  1.5]\n",
      "Scale: 2000000.0\n",
      "\n",
      "Scenario 4 - Sequence Consists Only of Large Values:\n",
      "Original Context: [500000 600000 700000]\n",
      "Scaled Context: [0.83333333 1.         1.16666667]\n",
      "Scale: 600000.0\n",
      "\n"
     ]
    }
   ],
   "source": [
    "# Scenario 1: High Variance with Extreme Outliers\n",
    "# Expectation: The scaled value of the outlier will remain large relative to the others.\n",
    "context1 = np.array([1, 2, 3, 1000000])\n",
    "scaled_context1, scale1, mask1 = mean_scale(context1)\n",
    "\n",
    "# Scenario 2: Small Non-Outlier Values Combined with a Large Mean\n",
    "# Expectation: The large value might still be large after scaling, while small values are minimized.\n",
    "context2 = np.array([0.1, 0.2, 100000])\n",
    "scaled_context2, scale2, mask2 = mean_scale(context2)\n",
    "\n",
    "# Scenario 3: All Values Are Large but Not Outliers\n",
    "# Expectation: The values will be scaled down but might still remain large.\n",
    "context3 = np.array([1000000, 2000000, 3000000])\n",
    "scaled_context3, scale3, mask3 = mean_scale(context3)\n",
    "\n",
    "# Scenario 4: Sequence Consists Only of Large Values (with No Small Values)\n",
    "# Expectation: Scaling by the mean will reduce them, but they will still be relatively large.\n",
    "context4 = np.array([500000, 600000, 700000])\n",
    "scaled_context4, scale4, mask4 = mean_scale(context4)\n",
    "\n",
    "# Print results\n",
    "print(\"Scenario 1 - High Variance with Extreme Outliers:\")\n",
    "print(\"Original Context:\", context1)\n",
    "print(\"Scaled Context:\", scaled_context1)\n",
    "print(\"Scale:\", scale1)\n",
    "print()\n",
    "\n",
    "print(\"Scenario 2 - Small Non-Outlier Values Combined with a Large Mean:\")\n",
    "print(\"Original Context:\", context2)\n",
    "print(\"Scaled Context:\", scaled_context2)\n",
    "print(\"Scale:\", scale2)\n",
    "print()\n",
    "\n",
    "print(\"Scenario 3 - All Values Are Large but Not Outliers:\")\n",
    "print(\"Original Context:\", context3)\n",
    "print(\"Scaled Context:\", scaled_context3)\n",
    "print(\"Scale:\", scale3)\n",
    "print()\n",
    "\n",
    "print(\"Scenario 4 - Sequence Consists Only of Large Values:\")\n",
    "print(\"Original Context:\", context4)\n",
    "print(\"Scaled Context:\", scaled_context4)\n",
    "print(\"Scale:\", scale4)\n",
    "print()"
   ]
  },
  {
   "cell_type": "code",
   "execution_count": 24,
   "metadata": {},
   "outputs": [
    {
     "name": "stdout",
     "output_type": "stream",
     "text": [
      "Scenario 5 - Long Sequence of Large Values:\n",
      "Original Context (first 10 values): [ 1  2  3  4  5  6  7  8  9 10]\n",
      "Scaled Context (first 10 values): [0.001998   0.003996   0.00599401 0.00799201 0.00999001 0.01198801\n",
      " 0.01398601 0.01598402 0.01798202 0.01998002]\n",
      "Scaled Context (last 10 values): [1.98001998 1.98201798 1.98401598 1.98601399 1.98801199 1.99000999\n",
      " 1.99200799 1.99400599 1.996004   1.998002  ]\n",
      "Scale: 500.5\n",
      "\n"
     ]
    }
   ],
   "source": [
    "context5 = np.arange(1, 1001)\n",
    "scaled_context5, scale5, mask5 = mean_scale(context5)\n",
    "\n",
    "print(\"Scenario 5 - Long Sequence of Large Values:\")\n",
    "print(\"Original Context (first 10 values):\", context5[:10])\n",
    "print(\"Scaled Context (first 10 values):\", scaled_context5[:10])\n",
    "print(\"Scaled Context (last 10 values):\", scaled_context5[-10:])\n",
    "print(\"Scale:\", scale5)\n",
    "print()"
   ]
  },
  {
   "cell_type": "code",
   "execution_count": 25,
   "metadata": {},
   "outputs": [
    {
     "name": "stdout",
     "output_type": "stream",
     "text": [
      "Scenario 5 - Long Sequence of Large Values (Log-Transformed):\n",
      "Original Context (first 10 values): [ 1  2  3  4  5  6  7  8  9 10]\n",
      "Log-Transformed Context (first 10 values): [0.         0.69314718 1.09861229 1.38629436 1.60943791 1.79175947\n",
      " 1.94591015 2.07944154 2.19722458 2.30258509]\n",
      "Scaled Context (first 10 values): [0.         0.11724157 0.18582349 0.23448314 0.27222649 0.30306506\n",
      " 0.32913869 0.35172471 0.37164698 0.38946806]\n",
      "Scaled Context (last 10 values): [1.16687499 1.16704559 1.16721601 1.16738626 1.16755634 1.16772625\n",
      " 1.16789599 1.16806555 1.16823495 1.16840418]\n",
      "Scale: 5.912128178488163\n",
      "\n"
     ]
    }
   ],
   "source": [
    "context6 = np.arange(1, 1001)  # A sequence from 1 to 1000\n",
    "\n",
    "# Take the logarithm of the context before scaling\n",
    "log_context6 = np.log(context5)\n",
    "\n",
    "# Apply mean scaling to the log-transformed context\n",
    "scaled_context6, scale6, mask6 = mean_scale(log_context6)\n",
    "\n",
    "# Print results for the new scenario\n",
    "print(\"Scenario 5 - Long Sequence of Large Values (Log-Transformed):\")\n",
    "print(\"Original Context (first 10 values):\", context6[:10])\n",
    "print(\"Log-Transformed Context (first 10 values):\", log_context6[:10])\n",
    "print(\"Scaled Context (first 10 values):\", scaled_context6[:10])\n",
    "print(\"Scaled Context (last 10 values):\", scaled_context6[-10:])\n",
    "print(\"Scale:\", scale6)\n",
    "print()"
   ]
  },
  {
   "cell_type": "markdown",
   "metadata": {},
   "source": [
    "# How Text Generation Works "
   ]
  },
  {
   "cell_type": "code",
   "execution_count": 26,
   "metadata": {},
   "outputs": [
    {
     "name": "stdout",
     "output_type": "stream",
     "text": [
      "  Token ID  Token\n",
      "----------  -------\n",
      "         0  <PAD>\n",
      "         1  <UNK>\n",
      "         2  <EOS>\n",
      "         3  cat\n",
      "         4  is\n",
      "         5  on\n",
      "         6  the\n",
      "         7  mat\n",
      "         8  dog\n",
      "         9  The\n"
     ]
    }
   ],
   "source": [
    "from tabulate import tabulate\n",
    "\n",
    "vocab = {0: \"<PAD>\", 1: \"<UNK>\", 2: \"<EOS>\", 3: \"cat\", 4: \"is\", 5: \"on\", 6: \"the\", 7: \"mat\", 8: \"dog\", 9: \"The\"}\n",
    "\n",
    "table = []\n",
    "for key, value in vocab.items():\n",
    "    table.append([key, value])\n",
    "\n",
    "print(tabulate(table, headers=[\"Token ID\", \"Token\"]))\n"
   ]
  },
  {
   "cell_type": "code",
   "execution_count": 27,
   "metadata": {},
   "outputs": [
    {
     "data": {
      "text/plain": [
       "[9, 3, 4, 5]"
      ]
     },
     "execution_count": 27,
     "metadata": {},
     "output_type": "execute_result"
    }
   ],
   "source": [
    "input_sentence = \"The cat is on\"\n",
    "\n",
    "word_to_token_id = {word: token_id for token_id, word in vocab.items()}\n",
    "\n",
    "input_token_ids = [word_to_token_id.get(word) for word in input_sentence.split()]\n",
    "\n",
    "input_token_ids"
   ]
  },
  {
   "cell_type": "code",
   "execution_count": 28,
   "metadata": {},
   "outputs": [
    {
     "data": {
      "image/png": "[encoded data removed]",
      "text/plain": [
       "<Figure size 640x480 with 1 Axes>"
      ]
     },
     "metadata": {},
     "output_type": "display_data"
    }
   ],
   "source": [
    "step_1_output_distribution = [0.005, 0.005, 0.02, 0.02, 0.01, 0.01, 0.90, 0.01, 0.01, 0.01]\n",
    "\n",
    "indices = np.arange(len(step_1_output_distribution))\n",
    "plt.bar(indices, step_1_output_distribution)\n",
    "\n",
    "# Set labels for each tick under each bar\n",
    "plt.xticks(indices, [str(i) for i in indices])\n",
    "\n",
    "# Write texts on top of each bar\n",
    "for i, value in enumerate(step_1_output_distribution):\n",
    "    plt.text(i, value, vocab[i], ha='center', va='bottom')\n",
    "\n",
    "\n",
    "# Set labels and title\n",
    "plt.xlabel('Token ID')\n",
    "plt.ylabel('Probability')\n",
    "plt.title('Step 1 Output Distribution')\n",
    "\n",
    "\n",
    "# Show the plot\n",
    "plt.show()"
   ]
  },
  {
   "cell_type": "code",
   "execution_count": 29,
   "metadata": {},
   "outputs": [
    {
     "data": {
      "text/plain": [
       "'The cat is on the'"
      ]
     },
     "execution_count": 29,
     "metadata": {},
     "output_type": "execute_result"
    }
   ],
   "source": [
    "step_1_predicted_token_id = np.argmax(step_1_output_distribution)\n",
    "step_1_predicted_word = vocab[step_1_predicted_token_id]\n",
    "\n",
    "step_2_input_sentence = input_sentence + \" \" + step_1_predicted_word\n",
    "step_2_input_sentence"
   ]
  },
  {
   "cell_type": "code",
   "execution_count": 30,
   "metadata": {},
   "outputs": [
    {
     "data": {
      "image/png": "[encoded data removed]",
      "text/plain": [
       "<Figure size 640x480 with 1 Axes>"
      ]
     },
     "metadata": {},
     "output_type": "display_data"
    }
   ],
   "source": [
    "step_2_output_distribution = [0.005, 0.005, 0.02, 0.02, 0.01, 0.01, 0.01, 0.90, 0.01]\n",
    "\n",
    "indices = np.arange(len(step_2_output_distribution))\n",
    "plt.bar(indices, step_2_output_distribution)\n",
    "\n",
    "# Set labels for each tick under each bar\n",
    "plt.xticks(indices, [str(i) for i in indices])\n",
    "\n",
    "# Write texts on top of each bar\n",
    "for i, value in enumerate(step_2_output_distribution):\n",
    "    plt.text(i, value, vocab[i], ha='center', va='bottom')\n",
    "\n",
    "\n",
    "# Set labels and title\n",
    "plt.xlabel('Token ID')\n",
    "plt.ylabel('Probability')\n",
    "plt.title('Step 2 Output Distribution')\n",
    "\n",
    "\n",
    "# Show the plot\n",
    "plt.show()"
   ]
  },
  {
   "cell_type": "code",
   "execution_count": 31,
   "metadata": {},
   "outputs": [
    {
     "data": {
      "text/plain": [
       "'The cat is on the mat'"
      ]
     },
     "execution_count": 31,
     "metadata": {},
     "output_type": "execute_result"
    }
   ],
   "source": [
    "step_2_predicted_token_id = np.argmax(step_2_output_distribution)\n",
    "step_2_predicted_word = vocab[step_2_predicted_token_id]\n",
    "\n",
    "step_3_input_sentence = step_2_input_sentence + \" \" + step_2_predicted_word\n",
    "step_3_input_sentence"
   ]
  },
  {
   "cell_type": "markdown",
   "metadata": {},
   "source": [
    "# Scratch"
   ]
  }
 ],
 "metadata": {
  "kernelspec": {
   "display_name": "timeseries",
   "language": "python",
   "name": "python3"
  },
  "language_info": {
   "codemirror_mode": {
    "name": "ipython",
    "version": 3
   },
   "file_extension": ".py",
   "mimetype": "text/x-python",
   "name": "python",
   "nbconvert_exporter": "python",
   "pygments_lexer": "ipython3",
   "version": "3.11.9"
  }
 },
 "nbformat": 4,
 "nbformat_minor": 2
}
